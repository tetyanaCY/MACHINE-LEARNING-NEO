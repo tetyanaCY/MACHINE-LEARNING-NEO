{
 "cells": [
  {
   "cell_type": "markdown",
   "metadata": {},
   "source": [
    "# Практика застосування kNN та Naive Bayes. EDA"
   ]
  },
  {
   "cell_type": "markdown",
   "metadata": {},
   "source": [
    "### Знайомство з даними"
   ]
  },
  {
   "cell_type": "code",
   "execution_count": 35,
   "metadata": {},
   "outputs": [],
   "source": [
    "import warnings\n",
    "import pandas as pd\n",
    "import numpy as np\n",
    "from scipy.stats import zscore\n",
    "from imblearn.over_sampling import SMOTE\n",
    "import category_encoders as ce\n",
    "from sklearn.model_selection import train_test_split\n",
    "from sklearn.naive_bayes import GaussianNB\n",
    "from sklearn.neighbors import KNeighborsClassifier\n",
    "from sklearn.preprocessing import PowerTransformer\n",
    "from sklearn.metrics import balanced_accuracy_score, confusion_matrix\n",
    "import seaborn as sns\n",
    "import matplotlib.pyplot as plt\n",
    "from sklearn.impute import SimpleImputer\n",
    "from sklearn.preprocessing import StandardScaler, OneHotEncoder\n",
    "from sklearn.compose import ColumnTransformer\n",
    "from sklearn.pipeline import Pipeline\n",
    "from sklearn.preprocessing import KBinsDiscretizer, StandardScaler\n",
    "from sklearn.svm import SVC\n",
    "from sklearn.metrics import accuracy_score, confusion_matrix"
   ]
  },
  {
   "cell_type": "code",
   "execution_count": 36,
   "metadata": {},
   "outputs": [
    {
     "data": {
      "text/plain": [
       "(                 Name  Phone_Number  Experience Qualification University  \\\n",
       " 0  Jennifer Hernandez  120-602-1220         3.0           Msc      Tier2   \n",
       " 1      Timothy Walker  840-675-8650         5.0           PhD      Tier2   \n",
       " 2         David Duran  556-293-8643         5.0           Msc      Tier2   \n",
       " 3       Gloria Ortega  463-559-7474         3.0           Bsc      Tier3   \n",
       " 4      Matthew Steele  968-091-7683         5.0           Bsc      Tier2   \n",
       " \n",
       "      Role Cert Date_Of_Birth  Salary  \n",
       " 0     Mid  Yes    25/08/1972   98000  \n",
       " 1  Senior  Yes    03/12/2013  135500  \n",
       " 2  Senior  Yes    19/07/2002  123500  \n",
       " 3     Mid   No    19/02/1970   85000  \n",
       " 4  Senior  Yes    20/02/1970  111500  ,\n",
       "               Name  Phone_Number  Experience Qualification University    Role  \\\n",
       " 0   Alvaro Johnson  320-636-8883           7           Bsc      Tier1  Senior   \n",
       " 1    Austin Powers  903-121-1691           2           Msc      Tier1     Mid   \n",
       " 2      Joshua Phil  673-972-2453           3           Bsc      Tier3     Mid   \n",
       " 3  Mirinda Collins  310-364-6925           5           Msc      Tier2  Senior   \n",
       " 4   Mustapha Green  401-249-3912           3           PhD      Tier1  Junior   \n",
       " \n",
       "   Cert Date_Of_Birth  Salary  \n",
       " 0   No    12/03/1978  109300  \n",
       " 1  Yes    13/03/1992   84800  \n",
       " 2  Yes    19/02/1988   98900  \n",
       " 3   No    20/03/1989  116500  \n",
       " 4  Yes    21/03/1979   75800  )"
      ]
     },
     "execution_count": 36,
     "metadata": {},
     "output_type": "execute_result"
    }
   ],
   "source": [
    "\n",
    "# Завантаження навчального та валідаційного наборів даних\n",
    "train_data = pd.read_csv('../datasets/mod_04_hw_train_data.csv')\n",
    "valid_data = pd.read_csv('../datasets/mod_04_hw_valid_data.csv')\n",
    "\n",
    "# Відображення перших кількох рядків навчального набору даних для огляду\n",
    "train_data.head(), valid_data.head()\n",
    "\n"
   ]
  },
  {
   "cell_type": "markdown",
   "metadata": {},
   "source": [
    "Статистичний огляд навчального набору даних"
   ]
  },
  {
   "cell_type": "code",
   "execution_count": 37,
   "metadata": {},
   "outputs": [
    {
     "data": {
      "text/plain": [
       "(               Name  Phone_Number  Experience Qualification University  \\\n",
       " count           249           249  247.000000           248        249   \n",
       " unique          248           249         NaN             3          3   \n",
       " top     Eric Taylor  120-602-1220         NaN           Bsc      Tier1   \n",
       " freq              2             1         NaN           113         94   \n",
       " mean            NaN           NaN    3.441296           NaN        NaN   \n",
       " std             NaN           NaN    1.496471           NaN        NaN   \n",
       " min             NaN           NaN    1.000000           NaN        NaN   \n",
       " 25%             NaN           NaN    2.000000           NaN        NaN   \n",
       " 50%             NaN           NaN    4.000000           NaN        NaN   \n",
       " 75%             NaN           NaN    5.000000           NaN        NaN   \n",
       " max             NaN           NaN    5.000000           NaN        NaN   \n",
       " \n",
       "           Role Cert Date_Of_Birth         Salary  \n",
       " count      246  247           249     249.000000  \n",
       " unique       3    2           247            NaN  \n",
       " top     Senior  Yes    25/08/1972            NaN  \n",
       " freq       128  129             2            NaN  \n",
       " mean       NaN  NaN           NaN   98186.746988  \n",
       " std        NaN  NaN           NaN   23502.622217  \n",
       " min        NaN  NaN           NaN   49500.000000  \n",
       " 25%        NaN  NaN           NaN   78500.000000  \n",
       " 50%        NaN  NaN           NaN  104500.000000  \n",
       " 75%        NaN  NaN           NaN  116500.000000  \n",
       " max        NaN  NaN           NaN  141500.000000  ,)"
      ]
     },
     "execution_count": 37,
     "metadata": {},
     "output_type": "execute_result"
    }
   ],
   "source": [
    "train_stats = train_data.describe(include='all')\n",
    "train_stats,"
   ]
  },
  {
   "cell_type": "markdown",
   "metadata": {},
   "source": [
    "Статистичний огляд валідаційного набору даних"
   ]
  },
  {
   "cell_type": "code",
   "execution_count": 38,
   "metadata": {},
   "outputs": [
    {
     "data": {
      "text/html": [
       "<div>\n",
       "<style scoped>\n",
       "    .dataframe tbody tr th:only-of-type {\n",
       "        vertical-align: middle;\n",
       "    }\n",
       "\n",
       "    .dataframe tbody tr th {\n",
       "        vertical-align: top;\n",
       "    }\n",
       "\n",
       "    .dataframe thead th {\n",
       "        text-align: right;\n",
       "    }\n",
       "</style>\n",
       "<table border=\"1\" class=\"dataframe\">\n",
       "  <thead>\n",
       "    <tr style=\"text-align: right;\">\n",
       "      <th></th>\n",
       "      <th>Name</th>\n",
       "      <th>Phone_Number</th>\n",
       "      <th>Experience</th>\n",
       "      <th>Qualification</th>\n",
       "      <th>University</th>\n",
       "      <th>Role</th>\n",
       "      <th>Cert</th>\n",
       "      <th>Date_Of_Birth</th>\n",
       "      <th>Salary</th>\n",
       "    </tr>\n",
       "  </thead>\n",
       "  <tbody>\n",
       "    <tr>\n",
       "      <th>count</th>\n",
       "      <td>7</td>\n",
       "      <td>7</td>\n",
       "      <td>7.0</td>\n",
       "      <td>7</td>\n",
       "      <td>7</td>\n",
       "      <td>7</td>\n",
       "      <td>7</td>\n",
       "      <td>7</td>\n",
       "      <td>7.000000</td>\n",
       "    </tr>\n",
       "    <tr>\n",
       "      <th>unique</th>\n",
       "      <td>7</td>\n",
       "      <td>7</td>\n",
       "      <td>NaN</td>\n",
       "      <td>3</td>\n",
       "      <td>3</td>\n",
       "      <td>3</td>\n",
       "      <td>2</td>\n",
       "      <td>7</td>\n",
       "      <td>NaN</td>\n",
       "    </tr>\n",
       "    <tr>\n",
       "      <th>top</th>\n",
       "      <td>Alvaro Johnson</td>\n",
       "      <td>320-636-8883</td>\n",
       "      <td>NaN</td>\n",
       "      <td>Bsc</td>\n",
       "      <td>Tier1</td>\n",
       "      <td>Junior</td>\n",
       "      <td>Yes</td>\n",
       "      <td>12/03/1978</td>\n",
       "      <td>NaN</td>\n",
       "    </tr>\n",
       "    <tr>\n",
       "      <th>freq</th>\n",
       "      <td>1</td>\n",
       "      <td>1</td>\n",
       "      <td>NaN</td>\n",
       "      <td>3</td>\n",
       "      <td>3</td>\n",
       "      <td>3</td>\n",
       "      <td>4</td>\n",
       "      <td>1</td>\n",
       "      <td>NaN</td>\n",
       "    </tr>\n",
       "    <tr>\n",
       "      <th>mean</th>\n",
       "      <td>NaN</td>\n",
       "      <td>NaN</td>\n",
       "      <td>4.0</td>\n",
       "      <td>NaN</td>\n",
       "      <td>NaN</td>\n",
       "      <td>NaN</td>\n",
       "      <td>NaN</td>\n",
       "      <td>NaN</td>\n",
       "      <td>93200.000000</td>\n",
       "    </tr>\n",
       "    <tr>\n",
       "      <th>std</th>\n",
       "      <td>NaN</td>\n",
       "      <td>NaN</td>\n",
       "      <td>2.0</td>\n",
       "      <td>NaN</td>\n",
       "      <td>NaN</td>\n",
       "      <td>NaN</td>\n",
       "      <td>NaN</td>\n",
       "      <td>NaN</td>\n",
       "      <td>17186.622705</td>\n",
       "    </tr>\n",
       "    <tr>\n",
       "      <th>min</th>\n",
       "      <td>NaN</td>\n",
       "      <td>NaN</td>\n",
       "      <td>2.0</td>\n",
       "      <td>NaN</td>\n",
       "      <td>NaN</td>\n",
       "      <td>NaN</td>\n",
       "      <td>NaN</td>\n",
       "      <td>NaN</td>\n",
       "      <td>69800.000000</td>\n",
       "    </tr>\n",
       "    <tr>\n",
       "      <th>25%</th>\n",
       "      <td>NaN</td>\n",
       "      <td>NaN</td>\n",
       "      <td>2.5</td>\n",
       "      <td>NaN</td>\n",
       "      <td>NaN</td>\n",
       "      <td>NaN</td>\n",
       "      <td>NaN</td>\n",
       "      <td>NaN</td>\n",
       "      <td>80300.000000</td>\n",
       "    </tr>\n",
       "    <tr>\n",
       "      <th>50%</th>\n",
       "      <td>NaN</td>\n",
       "      <td>NaN</td>\n",
       "      <td>3.0</td>\n",
       "      <td>NaN</td>\n",
       "      <td>NaN</td>\n",
       "      <td>NaN</td>\n",
       "      <td>NaN</td>\n",
       "      <td>NaN</td>\n",
       "      <td>97300.000000</td>\n",
       "    </tr>\n",
       "    <tr>\n",
       "      <th>75%</th>\n",
       "      <td>NaN</td>\n",
       "      <td>NaN</td>\n",
       "      <td>5.5</td>\n",
       "      <td>NaN</td>\n",
       "      <td>NaN</td>\n",
       "      <td>NaN</td>\n",
       "      <td>NaN</td>\n",
       "      <td>NaN</td>\n",
       "      <td>104100.000000</td>\n",
       "    </tr>\n",
       "    <tr>\n",
       "      <th>max</th>\n",
       "      <td>NaN</td>\n",
       "      <td>NaN</td>\n",
       "      <td>7.0</td>\n",
       "      <td>NaN</td>\n",
       "      <td>NaN</td>\n",
       "      <td>NaN</td>\n",
       "      <td>NaN</td>\n",
       "      <td>NaN</td>\n",
       "      <td>116500.000000</td>\n",
       "    </tr>\n",
       "  </tbody>\n",
       "</table>\n",
       "</div>"
      ],
      "text/plain": [
       "                  Name  Phone_Number  Experience Qualification University  \\\n",
       "count                7             7         7.0             7          7   \n",
       "unique               7             7         NaN             3          3   \n",
       "top     Alvaro Johnson  320-636-8883         NaN           Bsc      Tier1   \n",
       "freq                 1             1         NaN             3          3   \n",
       "mean               NaN           NaN         4.0           NaN        NaN   \n",
       "std                NaN           NaN         2.0           NaN        NaN   \n",
       "min                NaN           NaN         2.0           NaN        NaN   \n",
       "25%                NaN           NaN         2.5           NaN        NaN   \n",
       "50%                NaN           NaN         3.0           NaN        NaN   \n",
       "75%                NaN           NaN         5.5           NaN        NaN   \n",
       "max                NaN           NaN         7.0           NaN        NaN   \n",
       "\n",
       "          Role Cert Date_Of_Birth         Salary  \n",
       "count        7    7             7       7.000000  \n",
       "unique       3    2             7            NaN  \n",
       "top     Junior  Yes    12/03/1978            NaN  \n",
       "freq         3    4             1            NaN  \n",
       "mean       NaN  NaN           NaN   93200.000000  \n",
       "std        NaN  NaN           NaN   17186.622705  \n",
       "min        NaN  NaN           NaN   69800.000000  \n",
       "25%        NaN  NaN           NaN   80300.000000  \n",
       "50%        NaN  NaN           NaN   97300.000000  \n",
       "75%        NaN  NaN           NaN  104100.000000  \n",
       "max        NaN  NaN           NaN  116500.000000  "
      ]
     },
     "execution_count": 38,
     "metadata": {},
     "output_type": "execute_result"
    }
   ],
   "source": [
    "valid_stats = valid_data.describe(include='all')\n",
    "\n",
    "valid_stats\n"
   ]
  },
  {
   "cell_type": "markdown",
   "metadata": {},
   "source": [
    "Перевірка  типів даних у тренувальному наборі"
   ]
  },
  {
   "cell_type": "code",
   "execution_count": 39,
   "metadata": {},
   "outputs": [
    {
     "name": "stdout",
     "output_type": "stream",
     "text": [
      "<class 'pandas.core.frame.DataFrame'>\n",
      "RangeIndex: 249 entries, 0 to 248\n",
      "Data columns (total 9 columns):\n",
      " #   Column         Non-Null Count  Dtype  \n",
      "---  ------         --------------  -----  \n",
      " 0   Name           249 non-null    object \n",
      " 1   Phone_Number   249 non-null    object \n",
      " 2   Experience     247 non-null    float64\n",
      " 3   Qualification  248 non-null    object \n",
      " 4   University     249 non-null    object \n",
      " 5   Role           246 non-null    object \n",
      " 6   Cert           247 non-null    object \n",
      " 7   Date_Of_Birth  249 non-null    object \n",
      " 8   Salary         249 non-null    int64  \n",
      "dtypes: float64(1), int64(1), object(7)\n",
      "memory usage: 17.6+ KB\n"
     ]
    }
   ],
   "source": [
    "dtypes_train = train_data.dtypes\n",
    "dtypes_train\n",
    "train_data.info()"
   ]
  },
  {
   "cell_type": "markdown",
   "metadata": {},
   "source": [
    "Перевірка типів даних у валідаційному наборі"
   ]
  },
  {
   "cell_type": "code",
   "execution_count": 40,
   "metadata": {},
   "outputs": [
    {
     "name": "stdout",
     "output_type": "stream",
     "text": [
      "<class 'pandas.core.frame.DataFrame'>\n",
      "RangeIndex: 7 entries, 0 to 6\n",
      "Data columns (total 9 columns):\n",
      " #   Column         Non-Null Count  Dtype \n",
      "---  ------         --------------  ----- \n",
      " 0   Name           7 non-null      object\n",
      " 1   Phone_Number   7 non-null      object\n",
      " 2   Experience     7 non-null      int64 \n",
      " 3   Qualification  7 non-null      object\n",
      " 4   University     7 non-null      object\n",
      " 5   Role           7 non-null      object\n",
      " 6   Cert           7 non-null      object\n",
      " 7   Date_Of_Birth  7 non-null      object\n",
      " 8   Salary         7 non-null      int64 \n",
      "dtypes: int64(2), object(7)\n",
      "memory usage: 636.0+ bytes\n"
     ]
    }
   ],
   "source": [
    "dtypes_valid = valid_data.dtypes\n",
    "dtypes_valid \n",
    "valid_data.info()"
   ]
  },
  {
   "cell_type": "markdown",
   "metadata": {},
   "source": []
  },
  {
   "cell_type": "code",
   "execution_count": 41,
   "metadata": {},
   "outputs": [
    {
     "data": {
      "text/plain": [
       "Name             248\n",
       "Phone_Number     249\n",
       "Experience         5\n",
       "Qualification      3\n",
       "University         3\n",
       "Role               3\n",
       "Cert               2\n",
       "Date_Of_Birth    247\n",
       "Salary            84\n",
       "dtype: int64"
      ]
     },
     "execution_count": 41,
     "metadata": {},
     "output_type": "execute_result"
    }
   ],
   "source": [
    "train_data.nunique()"
   ]
  },
  {
   "cell_type": "markdown",
   "metadata": {},
   "source": [
    "Адаптація ознак і цільової змінної"
   ]
  },
  {
   "cell_type": "code",
   "execution_count": 42,
   "metadata": {},
   "outputs": [
    {
     "data": {
      "text/plain": [
       "0    Jennifer Hernandez\n",
       "1        Timothy Walker\n",
       "2           David Duran\n",
       "3         Gloria Ortega\n",
       "4        Matthew Steele\n",
       "Name: Name, dtype: object"
      ]
     },
     "execution_count": 42,
     "metadata": {},
     "output_type": "execute_result"
    }
   ],
   "source": [
    "train_data['Name'].head()"
   ]
  },
  {
   "cell_type": "code",
   "execution_count": 43,
   "metadata": {},
   "outputs": [],
   "source": [
    "train_data.drop('Name', axis=1, inplace=True)"
   ]
  },
  {
   "cell_type": "code",
   "execution_count": 44,
   "metadata": {},
   "outputs": [
    {
     "data": {
      "text/plain": [
       "Salary\n",
       "49500     3\n",
       "53500     3\n",
       "56500     4\n",
       "57500     4\n",
       "59500     3\n",
       "         ..\n",
       "130500    2\n",
       "131500    6\n",
       "134500    3\n",
       "135500    5\n",
       "141500    1\n",
       "Name: count, Length: 84, dtype: int64"
      ]
     },
     "execution_count": 44,
     "metadata": {},
     "output_type": "execute_result"
    }
   ],
   "source": [
    "train_data['Salary'].value_counts().sort_index()"
   ]
  },
  {
   "cell_type": "code",
   "execution_count": 45,
   "metadata": {},
   "outputs": [
    {
     "data": {
      "text/plain": [
       "Salary\n",
       "1    249\n",
       "Name: count, dtype: int64"
      ]
     },
     "execution_count": 45,
     "metadata": {},
     "output_type": "execute_result"
    }
   ],
   "source": [
    "train_data['Salary'] = np.where(train_data['Salary'] == 4, 0, 1)\n",
    "train_data['Salary'].value_counts()"
   ]
  },
  {
   "cell_type": "code",
   "execution_count": 46,
   "metadata": {},
   "outputs": [],
   "source": [
    "train_data['Qualification'] = train_data['Qualification'].astype(bool).astype(int).astype(str)"
   ]
  },
  {
   "cell_type": "markdown",
   "metadata": {},
   "source": [
    "Перевірка на відсутні значення в навчальному наборі"
   ]
  },
  {
   "cell_type": "code",
   "execution_count": 47,
   "metadata": {},
   "outputs": [
    {
     "data": {
      "text/plain": [
       "(Phone_Number     0\n",
       " Experience       2\n",
       " Qualification    0\n",
       " University       0\n",
       " Role             3\n",
       " Cert             2\n",
       " Date_Of_Birth    0\n",
       " Salary           0\n",
       " dtype: int64,)"
      ]
     },
     "execution_count": 47,
     "metadata": {},
     "output_type": "execute_result"
    }
   ],
   "source": [
    "missing_values_train = train_data.isnull().sum()\n",
    "missing_values_train, "
   ]
  },
  {
   "cell_type": "markdown",
   "metadata": {},
   "source": [
    "Перевірка на відсутні значення в валідаційному наборі"
   ]
  },
  {
   "cell_type": "code",
   "execution_count": 48,
   "metadata": {},
   "outputs": [
    {
     "data": {
      "text/plain": [
       "Name             0\n",
       "Phone_Number     0\n",
       "Experience       0\n",
       "Qualification    0\n",
       "University       0\n",
       "Role             0\n",
       "Cert             0\n",
       "Date_Of_Birth    0\n",
       "Salary           0\n",
       "dtype: int64"
      ]
     },
     "execution_count": 48,
     "metadata": {},
     "output_type": "execute_result"
    }
   ],
   "source": [
    "missing_values_valid = valid_data.isnull().sum()\n",
    "missing_values_valid"
   ]
  },
  {
   "cell_type": "markdown",
   "metadata": {},
   "source": [
    "Нормалізація числових даних (Experience, Salary)."
   ]
  },
  {
   "cell_type": "code",
   "execution_count": 49,
   "metadata": {},
   "outputs": [],
   "source": [
    "# Імп'ютери для числових і категоріальних даних\n",
    "imputer_num = SimpleImputer(strategy='median')  # Медіана для числових даних\n",
    "imputer_cat = SimpleImputer(strategy='most_frequent')  # Найчастіше значення для категоріальних даних\n",
    "\n",
    "# Обробка відсутніх значень для числових полів\n",
    "train_data['Experience'] = imputer_num.fit_transform(train_data[['Experience']])"
   ]
  },
  {
   "cell_type": "markdown",
   "metadata": {},
   "source": [
    "Кодування категоріальних даних (Qualification, University, Role, Cert)."
   ]
  },
  {
   "cell_type": "code",
   "execution_count": 50,
   "metadata": {},
   "outputs": [],
   "source": [
    "# Обробка відсутніх значень для категоріальних полів\n",
    "# SimpleImputer може повертати 2D масив, тому використовуємо ravel() для перетворення у 1D масив перед присвоєнням назад у DataFrame\n",
    "train_data['Qualification'] = imputer_cat.fit_transform(train_data[['Qualification']]).ravel()  # Використання ravel() для перетворення у 1D\n",
    "train_data['Role'] = imputer_cat.fit_transform(train_data[['Role']]).ravel()  # Використання ravel() для перетворення у 1D\n",
    "train_data['Cert'] = imputer_cat.fit_transform(train_data[['Cert']]).ravel()  # Використання ravel() для перетворення у 1D\n"
   ]
  },
  {
   "cell_type": "markdown",
   "metadata": {},
   "source": [
    "Перевірка відсутніх значень після обробки"
   ]
  },
  {
   "cell_type": "code",
   "execution_count": 51,
   "metadata": {},
   "outputs": [
    {
     "data": {
      "text/plain": [
       "Phone_Number     0\n",
       "Experience       0\n",
       "Qualification    0\n",
       "University       0\n",
       "Role             0\n",
       "Cert             0\n",
       "Date_Of_Birth    0\n",
       "Salary           0\n",
       "dtype: int64"
      ]
     },
     "execution_count": 51,
     "metadata": {},
     "output_type": "execute_result"
    }
   ],
   "source": [
    "missing_values_updated = train_data.isnull().sum()\n",
    "missing_values_updated"
   ]
  },
  {
   "cell_type": "code",
   "execution_count": 52,
   "metadata": {},
   "outputs": [
    {
     "data": {
      "image/png": "[encoded data removed]",
      "text/plain": [
       "<Figure size 1400x600 with 2 Axes>"
      ]
     },
     "metadata": {},
     "output_type": "display_data"
    },
    {
     "data": {
      "image/png": "[encoded data removed]",
      "text/plain": [
       "<Figure size 1400x600 with 2 Axes>"
      ]
     },
     "metadata": {},
     "output_type": "display_data"
    },
    {
     "data": {
      "image/png": "[encoded data removed]",
      "text/plain": [
       "<Figure size 640x480 with 2 Axes>"
      ]
     },
     "metadata": {},
     "output_type": "display_data"
    }
   ],
   "source": [
    "import seaborn as sns\n",
    "import matplotlib.pyplot as plt\n",
    "\n",
    "# Аналіз викидів за допомогою boxplot\n",
    "fig, axs = plt.subplots(ncols=2, figsize=(14, 6))\n",
    "sns.boxplot(x=train_data['Experience'], ax=axs[0])\n",
    "axs[0].set_title('Boxplot для ознаки Experience')\n",
    "\n",
    "sns.boxplot(x=train_data['Salary'], ax=axs[1])\n",
    "axs[1].set_title('Boxplot для ознаки Salary')\n",
    "\n",
    "plt.show()\n",
    "\n",
    "# Аналіз розподілу ознак\n",
    "fig, axs = plt.subplots(ncols=2, figsize=(14, 6))\n",
    "sns.histplot(train_data['Experience'], kde=True, ax=axs[0])\n",
    "axs[0].set_title('Розподіл ознаки Experience')\n",
    "\n",
    "sns.histplot(train_data['Salary'], kde=True, ax=axs[1])\n",
    "axs[1].set_title('Розподіл ознаки Salary')\n",
    "\n",
    "plt.show()\n",
    "\n",
    "# Кореляційний аналіз числових ознак\n",
    "correlation_matrix = train_data[['Experience', 'Salary']].corr()\n",
    "sns.heatmap(correlation_matrix, annot=True, cmap='coolwarm')\n",
    "plt.title('Кореляційна матриця')\n",
    "plt.show()\n",
    "\n"
   ]
  },
  {
   "cell_type": "markdown",
   "metadata": {},
   "source": [
    "Побудова моделі kNN-регресора"
   ]
  },
  {
   "cell_type": "markdown",
   "metadata": {},
   "source": [
    "### Розподіл ознак"
   ]
  },
  {
   "cell_type": "code",
   "execution_count": 53,
   "metadata": {},
   "outputs": [
    {
     "data": {
      "text/html": [
       "<div>\n",
       "<style scoped>\n",
       "    .dataframe tbody tr th:only-of-type {\n",
       "        vertical-align: middle;\n",
       "    }\n",
       "\n",
       "    .dataframe tbody tr th {\n",
       "        vertical-align: top;\n",
       "    }\n",
       "\n",
       "    .dataframe thead th {\n",
       "        text-align: right;\n",
       "    }\n",
       "</style>\n",
       "<table border=\"1\" class=\"dataframe\">\n",
       "  <thead>\n",
       "    <tr style=\"text-align: right;\">\n",
       "      <th></th>\n",
       "      <th>Experience</th>\n",
       "      <th>Salary</th>\n",
       "    </tr>\n",
       "  </thead>\n",
       "  <tbody>\n",
       "    <tr>\n",
       "      <th>count</th>\n",
       "      <td>249.000000</td>\n",
       "      <td>249.0</td>\n",
       "    </tr>\n",
       "    <tr>\n",
       "      <th>mean</th>\n",
       "      <td>3.445783</td>\n",
       "      <td>1.0</td>\n",
       "    </tr>\n",
       "    <tr>\n",
       "      <th>std</th>\n",
       "      <td>1.491262</td>\n",
       "      <td>0.0</td>\n",
       "    </tr>\n",
       "    <tr>\n",
       "      <th>min</th>\n",
       "      <td>1.000000</td>\n",
       "      <td>1.0</td>\n",
       "    </tr>\n",
       "    <tr>\n",
       "      <th>25%</th>\n",
       "      <td>2.000000</td>\n",
       "      <td>1.0</td>\n",
       "    </tr>\n",
       "    <tr>\n",
       "      <th>50%</th>\n",
       "      <td>4.000000</td>\n",
       "      <td>1.0</td>\n",
       "    </tr>\n",
       "    <tr>\n",
       "      <th>75%</th>\n",
       "      <td>5.000000</td>\n",
       "      <td>1.0</td>\n",
       "    </tr>\n",
       "    <tr>\n",
       "      <th>max</th>\n",
       "      <td>5.000000</td>\n",
       "      <td>1.0</td>\n",
       "    </tr>\n",
       "  </tbody>\n",
       "</table>\n",
       "</div>"
      ],
      "text/plain": [
       "       Experience  Salary\n",
       "count  249.000000   249.0\n",
       "mean     3.445783     1.0\n",
       "std      1.491262     0.0\n",
       "min      1.000000     1.0\n",
       "25%      2.000000     1.0\n",
       "50%      4.000000     1.0\n",
       "75%      5.000000     1.0\n",
       "max      5.000000     1.0"
      ]
     },
     "execution_count": 53,
     "metadata": {},
     "output_type": "execute_result"
    }
   ],
   "source": [
    "train_data.describe()"
   ]
  },
  {
   "cell_type": "code",
   "execution_count": 54,
   "metadata": {},
   "outputs": [
    {
     "data": {
      "text/plain": [
       "Experience   -0.397904\n",
       "Salary        0.000000\n",
       "dtype: float64"
      ]
     },
     "execution_count": 54,
     "metadata": {},
     "output_type": "execute_result"
    }
   ],
   "source": [
    "train_data.skew(numeric_only=True)"
   ]
  },
  {
   "cell_type": "markdown",
   "metadata": {},
   "source": [
    "### Вимоги алгоритмів до обробки даних\n",
    "### Очистка від викидів"
   ]
  },
  {
   "cell_type": "code",
   "execution_count": 55,
   "metadata": {},
   "outputs": [
    {
     "name": "stdout",
     "output_type": "stream",
     "text": [
      "Видалено рядків з викидами: 249\n",
      "Experience    0\n",
      "Salary        0\n",
      "dtype: int64\n"
     ]
    }
   ],
   "source": [
    "from scipy import stats\n",
    "\n",
    "# Виділення числових даних для аналізу\n",
    "numerical_data = train_data.select_dtypes(include=[np.number])\n",
    "\n",
    "# Обрахунок Z-оцінки для числових колонок\n",
    "z_scores = np.abs(stats.zscore(numerical_data))\n",
    "\n",
    "# Видалення рядків, де будь-яка числова колонка має Z-оцінку більше 3\n",
    "filtered_data = numerical_data[(z_scores < 3).all(axis=1)]\n",
    "\n",
    "# Відображення кількості видалених рядків з викидами\n",
    "print(\"Видалено рядків з викидами:\", numerical_data.shape[0] - filtered_data.shape[0])\n",
    "\n",
    "# Створення копії датафрейму для безпечної модифікації\n",
    "filtered_data = filtered_data.copy()\n",
    "\n",
    "# Заповнення пропущених значень медіаною для кожної колонки\n",
    "filtered_data = filtered_data.fillna(filtered_data.median())\n",
    "\n",
    "# Перевірка пропущених значень після обробки\n",
    "print(filtered_data.isnull().sum())"
   ]
  },
  {
   "cell_type": "markdown",
   "metadata": {},
   "source": [
    "### Видалення ознак, тісно пов`язаних з іншими ознаками"
   ]
  },
  {
   "cell_type": "code",
   "execution_count": 56,
   "metadata": {},
   "outputs": [],
   "source": [
    "\n",
    "# Виділення категоріальних і числових ознак\n",
    "categorical_features = train_data.select_dtypes(include=['object']).columns.tolist()\n",
    "numerical_features = train_data.select_dtypes(include=[np.number]).columns.tolist()\n",
    "numerical_features.remove('Salary')  # Видалення цільової змінної\n",
    "\n",
    "# Створення пайплайнів для обробки ознак\n",
    "numerical_transformer = Pipeline(steps=[\n",
    "    ('imputer', SimpleImputer(strategy='median')),  # Заповнення пропусків медіаною\n",
    "    ('scaler', StandardScaler())                    # Нормалізація даних\n",
    "])\n",
    "\n",
    "categorical_transformer = Pipeline(steps=[\n",
    "    ('imputer', SimpleImputer(strategy='constant', fill_value='missing')),  # Заповнення пропусків\n",
    "    ('onehot', OneHotEncoder(handle_unknown='ignore'))                      # One-hot кодування\n",
    "])\n",
    "\n",
    "# Об'єднання трансформерів у колонковий трансформер\n",
    "preprocessor = ColumnTransformer(\n",
    "    transformers=[\n",
    "        ('num', numerical_transformer, numerical_features),\n",
    "        ('cat', categorical_transformer, categorical_features)\n",
    "    ])\n"
   ]
  },
  {
   "cell_type": "markdown",
   "metadata": {},
   "source": [
    "### Огляд категоріальних ознак"
   ]
  },
  {
   "cell_type": "markdown",
   "metadata": {},
   "source": [
    "### Розбиття на тренувальну і тестову вибірки"
   ]
  },
  {
   "cell_type": "code",
   "execution_count": 57,
   "metadata": {},
   "outputs": [
    {
     "ename": "NameError",
     "evalue": "name 'KNeighborsRegressor' is not defined",
     "output_type": "error",
     "traceback": [
      "\u001b[1;31m---------------------------------------------------------------------------\u001b[0m",
      "\u001b[1;31mNameError\u001b[0m                                 Traceback (most recent call last)",
      "Cell \u001b[1;32mIn[57], line 4\u001b[0m\n\u001b[0;32m      1\u001b[0m \u001b[38;5;66;03m# Створення пайплайну з моделлю\u001b[39;00m\n\u001b[0;32m      2\u001b[0m model_pipeline \u001b[38;5;241m=\u001b[39m Pipeline(steps\u001b[38;5;241m=\u001b[39m[\n\u001b[0;32m      3\u001b[0m     (\u001b[38;5;124m'\u001b[39m\u001b[38;5;124mpreprocessor\u001b[39m\u001b[38;5;124m'\u001b[39m, preprocessor),\n\u001b[1;32m----> 4\u001b[0m     (\u001b[38;5;124m'\u001b[39m\u001b[38;5;124mregressor\u001b[39m\u001b[38;5;124m'\u001b[39m, \u001b[43mKNeighborsRegressor\u001b[49m(n_neighbors\u001b[38;5;241m=\u001b[39m\u001b[38;5;241m5\u001b[39m))  \u001b[38;5;66;03m# Використання 5 найближчих сусідів\u001b[39;00m\n\u001b[0;32m      5\u001b[0m ])\n\u001b[0;32m      7\u001b[0m \u001b[38;5;66;03m# Розділення даних на ознаки і цільову змінну\u001b[39;00m\n\u001b[0;32m      8\u001b[0m X_train \u001b[38;5;241m=\u001b[39m train_data\u001b[38;5;241m.\u001b[39mdrop(\u001b[38;5;124m'\u001b[39m\u001b[38;5;124mSalary\u001b[39m\u001b[38;5;124m'\u001b[39m, axis\u001b[38;5;241m=\u001b[39m\u001b[38;5;241m1\u001b[39m)\n",
      "\u001b[1;31mNameError\u001b[0m: name 'KNeighborsRegressor' is not defined"
     ]
    }
   ],
   "source": [
    "# Створення пайплайну з моделлю\n",
    "model_pipeline = Pipeline(steps=[\n",
    "    ('preprocessor', preprocessor),\n",
    "    ('regressor', KNeighborsRegressor(n_neighbors=5))  # Використання 5 найближчих сусідів\n",
    "])\n",
    "\n",
    "# Розділення даних на ознаки і цільову змінну\n",
    "X_train = train_data.drop('Salary', axis=1)\n",
    "y_train = train_data['Salary']\n",
    "\n",
    "# Навчання моделі\n",
    "model_pipeline.fit(X_train, y_train)\n"
   ]
  },
  {
   "cell_type": "markdown",
   "metadata": {},
   "source": [
    "### Кодування категоріальних змінних"
   ]
  },
  {
   "cell_type": "code",
   "execution_count": null,
   "metadata": {},
   "outputs": [
    {
     "data": {
      "text/plain": [
       "Index(['job', 'marital', 'education', 'default', 'housing', 'loan', 'contact',\n",
       "       'month', 'day_of_week', 'poutcome'],\n",
       "      dtype='object')"
      ]
     },
     "execution_count": 12,
     "metadata": {},
     "output_type": "execute_result"
    }
   ],
   "source": [
    "cat_cols = X_train.select_dtypes(include='object').columns\n",
    "cat_cols"
   ]
  },
  {
   "cell_type": "code",
   "execution_count": null,
   "metadata": {},
   "outputs": [],
   "source": [
    "encoder = ce.WOEEncoder(cols=cat_cols)\n",
    "\n",
    "X_train = encoder.fit_transform(X_train, y_train)\n",
    "X_test = encoder.transform(X_test)"
   ]
  },
  {
   "cell_type": "markdown",
   "metadata": {},
   "source": [
    "### Нормалізація змінних. Зменшення асиметрії"
   ]
  },
  {
   "cell_type": "code",
   "execution_count": null,
   "metadata": {},
   "outputs": [
    {
     "ename": "NameError",
     "evalue": "name 'X_train' is not defined",
     "output_type": "error",
     "traceback": [
      "\u001b[1;31m---------------------------------------------------------------------------\u001b[0m",
      "\u001b[1;31mNameError\u001b[0m                                 Traceback (most recent call last)",
      "Cell \u001b[1;32mIn[34], line 3\u001b[0m\n\u001b[0;32m      1\u001b[0m power_transform \u001b[38;5;241m=\u001b[39m PowerTransformer()\u001b[38;5;241m.\u001b[39mset_output(transform\u001b[38;5;241m=\u001b[39m\u001b[38;5;124m'\u001b[39m\u001b[38;5;124mpandas\u001b[39m\u001b[38;5;124m'\u001b[39m)\n\u001b[1;32m----> 3\u001b[0m X_train \u001b[38;5;241m=\u001b[39m power_transform\u001b[38;5;241m.\u001b[39mfit_transform(\u001b[43mX_train\u001b[49m)\n\u001b[0;32m      4\u001b[0m X_test \u001b[38;5;241m=\u001b[39m power_transform\u001b[38;5;241m.\u001b[39mtransform(X_test)\n",
      "\u001b[1;31mNameError\u001b[0m: name 'X_train' is not defined"
     ]
    }
   ],
   "source": [
    "power_transform = PowerTransformer().set_output(transform='pandas')\n",
    "\n",
    "X_train = power_transform.fit_transform(X_train)\n",
    "X_test = power_transform.transform(X_test)"
   ]
  },
  {
   "cell_type": "code",
   "execution_count": null,
   "metadata": {},
   "outputs": [
    {
     "data": {
      "text/plain": [
       "age            0.007984\n",
       "job            0.048212\n",
       "marital        0.826785\n",
       "education      0.056809\n",
       "default        2.514470\n",
       "housing       -0.106005\n",
       "loan          -1.703180\n",
       "contact       -0.586952\n",
       "month          0.104885\n",
       "day_of_week   -0.179013\n",
       "campaign       0.237176\n",
       "pdays         -4.813348\n",
       "previous       2.069751\n",
       "poutcome       2.070238\n",
       "euribor3m     -0.615990\n",
       "dtype: float64"
      ]
     },
     "execution_count": 15,
     "metadata": {},
     "output_type": "execute_result"
    }
   ],
   "source": [
    "X_train.skew()"
   ]
  },
  {
   "cell_type": "markdown",
   "metadata": {},
   "source": [
    "### Балансування класів"
   ]
  },
  {
   "cell_type": "code",
   "execution_count": null,
   "metadata": {},
   "outputs": [
    {
     "data": {
      "text/plain": [
       "y\n",
       "0    0.884514\n",
       "1    0.115486\n",
       "Name: proportion, dtype: float64"
      ]
     },
     "execution_count": 16,
     "metadata": {},
     "output_type": "execute_result"
    }
   ],
   "source": [
    "y_train.value_counts(normalize=True)"
   ]
  },
  {
   "cell_type": "code",
   "execution_count": null,
   "metadata": {},
   "outputs": [],
   "source": [
    "sm = SMOTE(random_state=42, k_neighbors=50)\n",
    "X_res, y_res = sm.fit_resample(X_train, y_train)"
   ]
  },
  {
   "cell_type": "markdown",
   "metadata": {},
   "source": [
    "# Практика застосування kNN та Naive Bayes. Побудова й оцінка моделей"
   ]
  },
  {
   "cell_type": "markdown",
   "metadata": {},
   "source": [
    "### kNN-класифікатор"
   ]
  },
  {
   "cell_type": "code",
   "execution_count": null,
   "metadata": {},
   "outputs": [
    {
     "name": "stdout",
     "output_type": "stream",
     "text": [
      "KNN model accuracy: 70.7%\n"
     ]
    }
   ],
   "source": [
    "knn_mod = KNeighborsClassifier(n_neighbors=15, n_jobs=-1).fit(X_res, y_res)\n",
    "\n",
    "knn_preds = knn_mod.predict(X_test)\n",
    "\n",
    "knn_score = balanced_accuracy_score(y_test, knn_preds)\n",
    "\n",
    "print(f'KNN model accuracy: {knn_score:.1%}')"
   ]
  },
  {
   "cell_type": "markdown",
   "metadata": {},
   "source": [
    "### Naive Bayes класифікатор"
   ]
  },
  {
   "cell_type": "code",
   "execution_count": null,
   "metadata": {},
   "outputs": [
    {
     "name": "stdout",
     "output_type": "stream",
     "text": [
      "GNB model accuracy: 71.2%\n"
     ]
    }
   ],
   "source": [
    "gnb_mod = GaussianNB().fit(X_res, y_res)\n",
    "\n",
    "gnb_preds = gnb_mod.predict(X_test)\n",
    "\n",
    "gnb_score = balanced_accuracy_score(y_test, gnb_preds)\n",
    "\n",
    "print(f'GNB model accuracy: {gnb_score:.1%}')"
   ]
  },
  {
   "cell_type": "code",
   "execution_count": null,
   "metadata": {},
   "outputs": [
    {
     "data": {
      "text/plain": [
       "array([[5953, 1104],\n",
       "       [ 381,  525]], dtype=int64)"
      ]
     },
     "execution_count": 20,
     "metadata": {},
     "output_type": "execute_result"
    }
   ],
   "source": [
    "confusion_matrix(y_test, gnb_preds)"
   ]
  }
 ],
 "metadata": {
  "anaconda-cloud": {},
  "kernelspec": {
   "display_name": "Python 3 (Spyder)",
   "language": "python3",
   "name": "python3"
  },
  "language_info": {
   "codemirror_mode": {
    "name": "ipython",
    "version": 3
   },
   "file_extension": ".py",
   "mimetype": "text/x-python",
   "name": "python",
   "nbconvert_exporter": "python",
   "pygments_lexer": "ipython3",
   "version": "3.11.9"
  }
 },
 "nbformat": 4,
 "nbformat_minor": 4
}
