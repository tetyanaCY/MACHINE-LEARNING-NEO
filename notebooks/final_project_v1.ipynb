{
 "cells": [
  {
   "cell_type": "code",
   "execution_count": null,
   "metadata": {},
   "outputs": [],
   "source": [
    "import pandas as pd\n",
    "import numpy as np\n",
    "from sklearn.model_selection import train_test_split, GridSearchCV, cross_val_score\n",
    "from sklearn.preprocessing import StandardScaler, OneHotEncoder\n",
    "from sklearn.compose import ColumnTransformer\n",
    "from sklearn.pipeline import Pipeline\n",
    "from sklearn.ensemble import RandomForestClassifier, GradientBoostingClassifier\n",
    "from sklearn.impute import SimpleImputer\n",
    "from sklearn.metrics import balanced_accuracy_score\n",
    "from imblearn.pipeline import Pipeline as ImbPipeline\n",
    "from imblearn.over_sampling import SMOTE"
   ]
  },
  {
   "cell_type": "code",
   "execution_count": null,
   "metadata": {},
   "outputs": [],
   "source": [
    "# Зчитуємо дані\n",
    "\n",
    "train_data = pd.read_csv('../final_project/final_proj_data.csv')\n",
    "('../final_project/final_proj_data.csv')\n",
    "test_data = pd.read_csv('../final_project/\\final_proj_test.csv')"
   ]
  },
  {
   "cell_type": "code",
   "execution_count": null,
   "metadata": {},
   "outputs": [],
   "source": [
    "# Перегляд структури даних\n",
    "\n",
    "# Перегляд перших рядків тренувального набору даних\n",
    "print(train_data.head())\n",
    "\n",
    "# Отримання інформації про датасет\n",
    "print(train_data.info())\n",
    "\n",
    "# Статистичний огляд даних\n",
    "print(train_data.describe())\n",
    "\n",
    "# Перевірка на наявність пропущених значень\n",
    "print(train_data.isnull().sum())\n",
    "\n",
    "# Візуалізація розподілу змінних\n",
    "sns.pairplot(train_data)\n",
    "plt.show()\n",
    "\n",
    "# Відбір лише числових колонок\n",
    "numerical_data = train_data.select_dtypes(include=[np.number])\n",
    "\n",
    "# Кореляційна матриця для числових змінних\n",
    "sns.heatmap(numerical_data.corr(), annot=True, fmt=\".2f\")\n",
    "plt.show()\n"
   ]
  }
 ],
 "metadata": {
  "anaconda-cloud": {},
  "kernelspec": {
   "display_name": "Python 3 (Spyder)",
   "language": "python3",
   "name": "python3"
  },
  "language_info": {
   "codemirror_mode": {
    "name": "ipython",
    "version": 3
   },
   "file_extension": ".py",
   "mimetype": "text/x-python",
   "name": "python",
   "nbconvert_exporter": "python",
   "pygments_lexer": "ipython3",
   "version": "3.11.9"
  }
 },
 "nbformat": 4,
 "nbformat_minor": 4
}
