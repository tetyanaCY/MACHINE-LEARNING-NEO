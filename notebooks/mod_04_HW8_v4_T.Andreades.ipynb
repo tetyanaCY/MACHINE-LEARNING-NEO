{
 "cells": [
  {
   "cell_type": "markdown",
   "metadata": {},
   "source": [
    "Крок 1: Імпорт бібліотек"
   ]
  },
  {
   "cell_type": "code",
   "execution_count": null,
   "metadata": {},
   "outputs": [],
   "source": [
    "import pandas as pd\n",
    "import numpy as np\n",
    "import matplotlib.pyplot as plt\n",
    "import seaborn as sns\n",
    "from sklearn.model_selection import train_test_split, GridSearchCV\n",
    "from sklearn.preprocessing import StandardScaler, OneHotEncoder\n",
    "from sklearn.compose import ColumnTransformer\n",
    "from sklearn.pipeline import Pipeline\n",
    "from sklearn.impute import SimpleImputer\n",
    "from sklearn.neighbors import KNeighborsRegressor\n",
    "from sklearn.metrics import mean_squared_error, mean_absolute_percentage_error, make_scorer, r2_score, mean_absolute_error\n",
    "\n"
   ]
  },
  {
   "cell_type": "markdown",
   "metadata": {},
   "source": [
    "Крок 2: Завантаження даних"
   ]
  },
  {
   "cell_type": "code",
   "execution_count": null,
   "metadata": {},
   "outputs": [],
   "source": [
    "train_data = pd.read_csv('../datasets/mod_04_hw_train_data.csv')\n",
    "valid_data = pd.read_csv('../datasets/mod_04_hw_valid_data.csv')"
   ]
  },
  {
   "cell_type": "markdown",
   "metadata": {},
   "source": [
    "Крок 3: Первинний дослідницький аналіз (EDA)\n"
   ]
  },
  {
   "cell_type": "code",
   "execution_count": null,
   "metadata": {},
   "outputs": [],
   "source": [
    "# Перегляд структури даних\n",
    "\n",
    "# Перегляд перших рядків тренувального набору даних\n",
    "print(train_data.head())\n",
    "\n",
    "# Отримання інформації про датасет\n",
    "print(train_data.info())\n",
    "\n",
    "# Статистичний огляд даних\n",
    "print(train_data.describe())\n",
    "\n",
    "# Перевірка на наявність пропущених значень\n",
    "print(train_data.isnull().sum())\n",
    "\n",
    "# Візуалізація розподілу змінних\n",
    "sns.pairplot(train_data)\n",
    "plt.show()\n",
    "\n",
    "# Відбір лише числових колонок\n",
    "numerical_data = train_data.select_dtypes(include=[np.number])\n",
    "\n",
    "# Кореляційна матриця для числових змінних\n",
    "sns.heatmap(numerical_data.corr(), annot=True, fmt=\".2f\")\n",
    "plt.show()\n"
   ]
  },
  {
   "cell_type": "markdown",
   "metadata": {},
   "source": [
    "Крок 4: Підготовка даних"
   ]
  },
  {
   "cell_type": "code",
   "execution_count": null,
   "metadata": {},
   "outputs": [],
   "source": [
    "from scipy import stats\n",
    "\n",
    "# Виділення числових даних для аналізу\n",
    "numerical_data = train_data.select_dtypes(include=[np.number])\n",
    "\n",
    "# Обрахунок Z-оцінки для числових колонок\n",
    "z_scores = np.abs(stats.zscore(numerical_data))\n",
    "\n",
    "# Видалення рядків, де будь-яка числова колонка має Z-оцінку більше 3\n",
    "filtered_data = numerical_data[(z_scores < 3).all(axis=1)]\n",
    "\n",
    "# Відображення кількості видалених рядків з викидами\n",
    "print(\"Видалено рядків з викидами:\", numerical_data.shape[0] - filtered_data.shape[0])\n",
    "\n",
    "# Створення копії датафрейму для безпечної модифікації\n",
    "filtered_data = filtered_data.copy()\n",
    "\n",
    "# Заповнення пропущених значень медіаною для кожної колонки\n",
    "filtered_data = filtered_data.fillna(filtered_data.median())\n",
    "\n",
    "# Перевірка пропущених значень після обробки\n",
    "print(filtered_data.isnull().sum())"
   ]
  },
  {
   "cell_type": "code",
   "execution_count": null,
   "metadata": {},
   "outputs": [],
   "source": [
    "# Виділення категоріальних і числових ознак\n",
    "categorical_features = train_data.select_dtypes(include=['object']).columns.tolist()\n",
    "numerical_features = train_data.select_dtypes(include=[np.number]).columns.tolist()\n",
    "numerical_features.remove('Salary')  # Видалення цільової змінної\n",
    "\n",
    "# Створення пайплайнів для обробки ознак\n",
    "numerical_transformer = Pipeline(steps=[\n",
    "    ('imputer', SimpleImputer(strategy='median')),  # Заповнення пропусків медіаною\n",
    "    ('scaler', StandardScaler())                    # Нормалізація даних\n",
    "])\n",
    "\n",
    "categorical_transformer = Pipeline(steps=[\n",
    "    ('imputer', SimpleImputer(strategy='constant', fill_value='missing')),  # Заповнення пропусків\n",
    "    ('onehot', OneHotEncoder(handle_unknown='ignore'))                      # One-hot кодування\n",
    "])\n",
    "\n",
    "# Об'єднання трансформерів у колонковий трансформер\n",
    "preprocessor = ColumnTransformer(\n",
    "    transformers=[\n",
    "        ('num', numerical_transformer, numerical_features),\n",
    "        ('cat', categorical_transformer, categorical_features)\n",
    "    ])\n"
   ]
  },
  {
   "cell_type": "code",
   "execution_count": null,
   "metadata": {},
   "outputs": [],
   "source": [
    "# Визначення нерелевантних ознак\n",
    "irrelevant_features = ['Date_Of_Birth', 'Qualification', 'Cert']\n",
    "\n",
    "# Перевірка наявності та видалення нерелевантних ознак\n",
    "for feature in irrelevant_features:\n",
    "    if feature in train_data.columns:\n",
    "        train_data.drop(columns=[feature], inplace=True)\n",
    "    if feature in valid_data.columns:\n",
    "        valid_data.drop(columns=[feature], inplace=True)\n",
    "\n",
    "# Виділення категоріальних і числових ознак\n",
    "categorical_features = train_data.select_dtypes(include=['object']).columns.tolist()\n",
    "numerical_features = train_data.select_dtypes(include=[np.number]).columns.tolist()\n",
    "if 'Salary' in numerical_features:\n",
    "    numerical_features.remove('Salary')  # Видалення цільової змінної\n",
    "\n",
    "# Пайплайн для числових ознак\n",
    "numerical_transformer = Pipeline(steps=[\n",
    "    ('imputer', SimpleImputer(strategy='median')),\n",
    "    ('scaler', StandardScaler())\n",
    "])\n",
    "\n",
    "# Пайплайн для категоріальних ознак\n",
    "categorical_transformer = Pipeline(steps=[\n",
    "    ('imputer', SimpleImputer(strategy='constant', fill_value='missing')),\n",
    "    ('onehot', OneHotEncoder(handle_unknown='ignore'))\n",
    "])\n",
    "\n",
    "# Комбінування обробки ознак\n",
    "preprocessor = ColumnTransformer(\n",
    "    transformers=[\n",
    "        ('num', numerical_transformer, numerical_features),\n",
    "        ('cat', categorical_transformer, categorical_features)\n",
    "    ])\n",
    "\n",
    "# Створення пайплайну з моделлю\n",
    "model_pipeline = Pipeline(steps=[\n",
    "    ('preprocessor', preprocessor),\n",
    "    ('regressor', KNeighborsRegressor())\n",
    "])\n"
   ]
  },
  {
   "cell_type": "markdown",
   "metadata": {},
   "source": [
    "Крок 5: Пошук оптимальних параметрів за допомогою GridSearchCV"
   ]
  },
  {
   "cell_type": "code",
   "execution_count": null,
   "metadata": {},
   "outputs": [],
   "source": [
    "param_grid = {\n",
    "    'regressor__n_neighbors': [3, 5, 7, 9, 11, 13, 15, 17, 19, 25, 50],\n",
    "    'regressor__weights': ['uniform', 'distance'],\n",
    "    'regressor__p': [1, 2]  # 1 - Мангеттенська відстань, 2 - Евклідова відстань\n",
    "}\n",
    "\n",
    "grid_search = GridSearchCV(model_pipeline, param_grid, cv=5, scoring=make_scorer(mean_absolute_percentage_error, greater_is_better=False))\n",
    "grid_search.fit(train_data.drop('Salary', axis=1), train_data['Salary'])\n",
    "\n",
    "print(f\"Найкращі параметри: {grid_search.best_params_}\")\n"
   ]
  },
  {
   "cell_type": "markdown",
   "metadata": {},
   "source": [
    "Крок 6: Оцінка моделі\n",
    "\n"
   ]
  },
  {
   "cell_type": "code",
   "execution_count": null,
   "metadata": {},
   "outputs": [],
   "source": [
    "# Використання оптимальної моделі для валідаційних даних\n",
    "best_model = grid_search.best_estimator_\n",
    "y_pred = best_model.predict(valid_data.drop('Salary', axis=1))\n",
    "mape = mean_absolute_percentage_error(valid_data['Salary'], y_pred)\n",
    "print(f'Validation MAPE: {mape:.2%}')\n",
    "\n",
    "\n",
    "\n",
    "# Розрахунок метрик\n",
    "mape = mean_absolute_percentage_error(valid_data['Salary'], y_pred)\n",
    "mse = mean_squared_error(valid_data['Salary'], y_pred)\n",
    "rmse = np.sqrt(mse)\n",
    "r2 = r2_score(valid_data['Salary'], y_pred)\n",
    "mae = mean_absolute_error(valid_data['Salary'], y_pred)\n",
    "\n",
    "print(f'MAPE: {mape:.2%}')\n",
    "print(f'MSE: {mse}')\n",
    "print(f'RMSE: {rmse}')\n",
    "print(f'R^2: {r2}')\n",
    "print(f'MAE: {mae}')\n"
   ]
  },
  {
   "cell_type": "code",
   "execution_count": null,
   "metadata": {},
   "outputs": [],
   "source": [
    "# Аналогічна обробка валідаційного набору\n",
    "X_valid = valid_data.drop('Salary', axis=1)\n",
    "y_valid = valid_data['Salary']\n"
   ]
  },
  {
   "cell_type": "markdown",
   "metadata": {},
   "source": [
    "ТЕПЕР ДРУГА ЧАСТИНА ЗАВДАННЯ: етапи обробки і підготовки даних для валідаційного набору, подібно до того, як у темі «Метод опорних векторів (SVM)» в розділі «Практика застосування SVM-класифікатора. Навчання й оцінка моделі. Приклад використання моделі"
   ]
  },
  {
   "cell_type": "markdown",
   "metadata": {},
   "source": [
    "Крок 2: Завантаження даних"
   ]
  },
  {
   "cell_type": "code",
   "execution_count": null,
   "metadata": {},
   "outputs": [],
   "source": [
    "# Завантаження даних\n",
    "trained_data = pd.read_csv('../datasets/mod_04_hw_valid_data.csv')\n"
   ]
  },
  {
   "cell_type": "markdown",
   "metadata": {},
   "source": [
    "Крок 3: Первинний дослідницький аналіз (EDA)"
   ]
  },
  {
   "cell_type": "code",
   "execution_count": null,
   "metadata": {},
   "outputs": [],
   "source": [
    "# Перегляд структури даних\n",
    "print(trained_data.head())\n",
    "print(trained_data.describe())\n",
    "print(trained_data.info())\n",
    "\n",
    "# Перевірка на відсутні значення\n",
    "print(trained_data.isnull().sum())\n"
   ]
  },
  {
   "cell_type": "markdown",
   "metadata": {},
   "source": [
    "Крок 4: Підготовка даних"
   ]
  },
  {
   "cell_type": "code",
   "execution_count": null,
   "metadata": {},
   "outputs": [],
   "source": [
    "# Визначення нерелевантних ознак\n",
    "irrelevant_features = ['Date_Of_Birth', 'Qualification', 'Cert']\n",
    "\n",
    "# Перевірка наявності та видалення нерелевантних ознак\n",
    "for feature in irrelevant_features:\n",
    "    if feature in trained_data.columns:\n",
    "        trained_data.drop(columns=[feature], inplace=True)\n",
    "\n",
    "# Виділення категоріальних і числових ознак\n",
    "categorical_features = trained_data.select_dtypes(include=['object']).columns.tolist()\n",
    "numerical_features = trained_data.select_dtypes(include=[np.number]).columns.tolist()\n",
    "if 'Salary' in numerical_features:\n",
    "    numerical_features.remove('Salary')  # Видалення цільової змінної\n",
    "\n",
    "# Пайплайн для числових ознак\n",
    "numerical_transformer = Pipeline(steps=[\n",
    "    ('imputer', SimpleImputer(strategy='median')),\n",
    "    ('scaler', StandardScaler())\n",
    "])\n",
    "\n",
    "# Пайплайн для категоріальних ознак\n",
    "categorical_transformer = Pipeline(steps=[\n",
    "    ('imputer', SimpleImputer(strategy='constant', fill_value='missing')),\n",
    "    ('onehot', OneHotEncoder(handle_unknown='ignore'))\n",
    "])\n",
    "\n",
    "# Комбінування обробки ознак\n",
    "preprocessor = ColumnTransformer(\n",
    "    transformers=[\n",
    "        ('num', numerical_transformer, numerical_features),\n",
    "        ('cat', categorical_transformer, categorical_features)\n",
    "    ])\n",
    "\n",
    "# Створення пайплайну з моделлю\n",
    "model_pipeline = Pipeline(steps=[\n",
    "    ('preprocessor', preprocessor),\n",
    "    ('regressor', KNeighborsRegressor())\n",
    "])\n"
   ]
  },
  {
   "cell_type": "markdown",
   "metadata": {},
   "source": [
    "Крок 5: Пошук оптимальних параметрів за допомогою GridSearchCV"
   ]
  },
  {
   "cell_type": "code",
   "execution_count": null,
   "metadata": {},
   "outputs": [],
   "source": [
    "X1_train = trained_data.drop('Salary', axis=1)\n",
    "y2_train = trained_data['Salary']\n",
    "\n",
    "param_grid = {\n",
    "    'regressor__n_neighbors': [3, 5],\n",
    "    'regressor__weights': ['uniform', 'distance'],\n",
    "    'regressor__p': [1, 2]  # 1 - Мангеттенська відстань, 2 - Евклідова відстань\n",
    "}\n",
    "\n",
    "grid_search = GridSearchCV(model_pipeline, param_grid, cv=5, scoring=make_scorer(mean_absolute_percentage_error, greater_is_better=False))\n",
    "grid_search.fit(X1_train, y2_train)\n",
    "\n",
    "print(f\"Найкращі параметри: {grid_search.best_params_}\")\n"
   ]
  },
  {
   "cell_type": "markdown",
   "metadata": {},
   "source": [
    "Крок 6: Оцінка моделі"
   ]
  },
  {
   "cell_type": "markdown",
   "metadata": {},
   "source": [
    "Крок 7: Прогноз заробітної плати для нових працівників"
   ]
  },
  {
   "cell_type": "code",
   "execution_count": null,
   "metadata": {},
   "outputs": [],
   "source": [
    "# Створення нового набору даних для прогнозу\n",
    "new_data = pd.DataFrame(\n",
    "    data={\n",
    "        'Name': ['John Doe'],\n",
    "        'Experience': [5],\n",
    "        'University': ['University A'],\n",
    "        'Qualification': ['Masters'],\n",
    "        'Role': ['Manager'],\n",
    "        'Location': ['New York'],\n",
    "        'Phone_Number': ['1234567890'],\n",
    "        'Date_Of_Birth': ['1980-01-01'],\n",
    "        'Cert': ['CertA']\n",
    "    }\n",
    ")\n",
    "\n",
    "# Видалення нерелевантних ознак\n",
    "for feature in irrelevant_features:\n",
    "    if feature in new_data.columns:\n",
    "        new_data.drop(columns=[feature], inplace=True)\n",
    "\n",
    "# Прогноз заробітної плати\n",
    "new_data_transformed = best_model['preprocessor'].transform(new_data)\n",
    "salary_pred = best_model['regressor'].predict(new_data_transformed)\n",
    "\n",
    "print(f'Прогнозована заробітна плата для нового працівника: {salary_pred[0]}')\n"
   ]
  }
 ],
 "metadata": {
  "kernelspec": {
   "display_name": "Python 3",
   "language": "python",
   "name": "python3"
  },
  "language_info": {
   "codemirror_mode": {
    "name": "ipython",
    "version": 3
   },
   "file_extension": ".py",
   "mimetype": "text/x-python",
   "name": "python",
   "nbconvert_exporter": "python",
   "pygments_lexer": "ipython3",
   "version": "3.11.9"
  }
 },
 "nbformat": 4,
 "nbformat_minor": 2
}
